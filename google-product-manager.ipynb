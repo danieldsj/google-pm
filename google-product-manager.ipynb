{
 "cells": [
  {
   "cell_type": "markdown",
   "metadata": {},
   "source": [
    "# The Google Product Manager Project <a class=\"anchor\" id=\"top\"></a>\n",
    "\n",
    "## Table of contents: \n",
    "* [Goal](#goal)\n",
    "* [Method](#method)\n",
    "* [Requirements](#requirements)\n",
    "* [Process](#process)\n",
    "    * [Authenticate](#auth)\n",
    "    * [List issues](#list)\n",
    "    * [Get issue details and clean up the data](#details)\n",
    "    * [Corpus](#corpus)\n",
    "    * [Cluster](#cluster)\n",
    "    * [Prioritize](#prioritize)\n",
    "\n",
    "## Goal <a class=\"anchor\" id=\"goal\"></a>\n",
    "\n",
    "The goal of this Jupyter notebook is to mine the information from Google's issue tracker create groups of similar feature requests and to prioritize these groups of feature requests.\n",
    "\n",
    "[Go to top](#top)\n",
    "\n",
    "## Method <a class=\"anchor\" id=\"method\"></a>\n",
    "\n",
    "The high-leve steps to reach the goal are as follows:\n",
    "\n",
    "1. Pull raw data about feature requests from Google's issue tracker.\n",
    "2. Extract and clean up the \"description\" of the issue.\n",
    "3. Use a tokenizer and vectorizer to extract the text features.\n",
    "4. Use the K-means unsupervised clustering algorithm to identify clusters of issues.\n",
    "5. Identify the most popular cluster of features using an index based on issue counts and aggregated votes.\n",
    "6. Identify the scenario, persona, and stories if possible.\n",
    "\n",
    "[Go to top](#top)\n",
    "\n",
    "## Requirements <a class=\"anchor\" id=\"requirements\"></a>\n",
    "\n",
    "This Jupyter Notebook was created using the following:\n",
    "\n",
    "* Debian 9.54\n",
    "* Python 3.5.3\n",
    "* Jupyter Notebook 4.2.3\n",
    "* All python requirements listed here: https://raw.githubusercontent.com/danieldsj/google-pm/master/requirements.txt\n",
    "\n",
    "[Go to top](#top)\n",
    "\n",
    "## Process <a class=\"anchor\" id=\"process\"></a>\n",
    "\n",
    "### Authenticate <a class=\"anchor\" id=\"auth\"></a>\n",
    "\n",
    "Google's issue tracker is public, but does not appear to have a documented and supported API. Using a browsers development mode, one can observe that there are XML HTTP Requests (XHR) that strings that appear to be JSON objects.\n",
    "\n",
    "The XHR requests are being made to URLs similar to the following:\n",
    "\n",
    "https://issuetracker.google.com/action/issues?count=25&p=1&q=status:open+type:feature_request&s=created_time:desc\n",
    "\n",
    "Since the HTTP request requires authentication and there is no official API or SDK for the issue tracker, I used a browsercookie library in python to use cookies on my desktop browser for authentication."
   ]
  },
  {
   "cell_type": "code",
   "execution_count": 1,
   "metadata": {
    "collapsed": false
   },
   "outputs": [
    {
     "name": "stdout",
     "output_type": "stream",
     "text": [
      "Firefox session filename does not exist: /home/daniel/.mozilla/firefox/edv7ja09.default/sessionstore.js\n"
     ]
    }
   ],
   "source": [
    "import browsercookie\n",
    "\n",
    "cookies = browsercookie.firefox()\n",
    "\n",
    "# NOTE: The warning below occurs because Firefox is open and being used for Jupyter Notebook.\n",
    "# for more information, see...\n",
    "# https://bitbucket.org/richardpenman/browsercookie/issues/14/sessionstorejs-does-not-exist-if-firefox"
   ]
  },
  {
   "cell_type": "markdown",
   "metadata": {},
   "source": [
    "[Go to top](#top)\n",
    "\n",
    "### Get list of issues <a class=\"anchor\" id=\"list\"></a>\n",
    "\n",
    "The XHR response string has the following characteristics:\n",
    "* The response is multi-line and the first line is not valid json.\n",
    "* The url uses the \"+\" character and may require special encoding to be used with requests.\n",
    "* The results are paginated.\n",
    "\n",
    "Since the request supports pagination and we are looking at thousands of issues, we should define some functions that we can use with Python multiprocessing libraries."
   ]
  },
  {
   "cell_type": "code",
   "execution_count": 2,
   "metadata": {
    "collapsed": false
   },
   "outputs": [],
   "source": [
    "import requests\n",
    "import json\n",
    "\n",
    "def generate_urls(cookies=cookies, count=25):\n",
    "    \"\"\" Will general all of the URLs required due to the pagination of the results. \"\"\"\n",
    "    url = 'https://issuetracker.google.com/action/issues?count={count}&p=' + \\\n",
    "          '{page}&q=status:open+type:feature_request&s=created_time:desc'\n",
    "\n",
    "    # Make a small request to get the number of issues.\n",
    "    response = requests.get(url.format(page=1, count=1), cookies=cookies)\n",
    "    lines = [x for x in response.iter_lines()] # workaround for first line.\n",
    "    data = json.loads(lines[1].decode())\n",
    "\n",
    "    # Calculate the number of pages required to get all of the results.\n",
    "    number_of_pages = int(data['numTotalResults'] / count) + 1\n",
    "\n",
    "    # Use the number of pages to generate the urls for all of the requests.\n",
    "    for page in range(1,number_of_pages + 1):\n",
    "        yield url.format(page=page, count=count)\n",
    "\n",
    "def get_raw_issue(url):\n",
    "    \"\"\" Pull pull down the response of each URL. \"\"\"\n",
    "    response = requests.get(url, cookies=cookies)\n",
    "    lines = [x for x in response.iter_lines()] # workaround for first line.\n",
    "    data = json.loads(lines[1].decode())\n",
    "    issue_ids = list()\n",
    "    return data['issues']"
   ]
  },
  {
   "cell_type": "markdown",
   "metadata": {},
   "source": [
    "Now, let's use the Multiprocessing Pool class to make the requests in parallel..."
   ]
  },
  {
   "cell_type": "code",
   "execution_count": 3,
   "metadata": {
    "collapsed": false,
    "scrolled": true
   },
   "outputs": [
    {
     "name": "stdout",
     "output_type": "stream",
     "text": [
      "The number of URLS generated: 70\n",
      "A sample of the urls: \n",
      " https://issuetracker.google.com/action/issues?count=25&p=1&q=status:open+type:feature_request&s=created_time:desc\n",
      " https://issuetracker.google.com/action/issues?count=25&p=2&q=status:open+type:feature_request&s=created_time:desc\n",
      " https://issuetracker.google.com/action/issues?count=25&p=3&q=status:open+type:feature_request&s=created_time:desc\n",
      "The number of issues detected: 1750\n",
      "An example issue: \n",
      "{'aggregatedData': {'voteCount': 0, 'createdTimeMicros': 1521908332752000, 'modifiedTimeMicros': 1521908332752000}, 'userData': {'voted': False, 'starred': False}, 'issueId': 76201362, 'snapshot': [{'severity': 'S2', 'createdTimeMicros': 1521908332752000, 'significanceOverride': 'UNKNOWN', 'version': 0, 'isDeleted': False, 'title': 'Add-ons for Google Classroom', 'user': 'le...@videmantay.net', 'componentId': 191645, 'type': 'FEATURE_REQUEST', 'cc': ['gr...@google.com', 'ho...@google.com', 'le...@videmantay.net', 'ob...@google.com'], 'isArchived': False, 'status': 'NEW', 'priority': 'P2', 'inProd': False, 'reporter': 'le...@videmantay.net'}]}\n"
     ]
    }
   ],
   "source": [
    "import multiprocessing\n",
    "\n",
    "urls = [x for x in generate_urls()]\n",
    "print(\"The number of URLS generated: \" + str(len(urls)))\n",
    "print(\"A sample of the urls: \")\n",
    "for u in urls[:3]:\n",
    "    print(\" \" + u)\n",
    "\n",
    "raw_issues = list()\n",
    "pool = multiprocessing.Pool(4)\n",
    "pool_output = pool.map(get_raw_issue, urls)\n",
    "for batch in pool_output:\n",
    "    raw_issues.extend(batch)\n",
    "pool.close()\n",
    "    \n",
    "print(\"The number of issues detected: \" + str(len(raw_issues)))\n",
    "print(\"An example issue: \")\n",
    "print(raw_issues[0])"
   ]
  },
  {
   "cell_type": "markdown",
   "metadata": {},
   "source": [
    "[Go to top](#top)\n",
    "\n",
    "### Get issue details and clean up the data <a class=\"anchor\" id=\"details\"></a>\n",
    "\n",
    "The response for these requests provide some valuable information, but the only description of the feature being requested is a very short title.  When clicking on an issue on the website, we make additional XML HTTP Requests to different URLS similar to the following:\n",
    "\n",
    "https://issuetracker.google.com/action/issues/74163608\n",
    "\n",
    "Again, let's create functions to pull the details and leverage the Multiprocessing Pool class to make the requests in parallel..."
   ]
  },
  {
   "cell_type": "code",
   "execution_count": 4,
   "metadata": {
    "collapsed": false,
    "scrolled": true
   },
   "outputs": [
    {
     "name": "stdout",
     "output_type": "stream",
     "text": [
      "Example raw issue: \n",
      "{'issue': {'aggregatedData': {'voteCount': 0, 'createdTimeMicros': 1521908332752000, 'modifiedTimeMicros': 1521908332752000}, 'userData': {'voted': False, 'starred': False}, 'issueId': 76201362, 'snapshot': [{'severity': 'S2', 'createdTimeMicros': 1521908332752000, 'snapshotNumber': 1, 'attachmentId': [16665195], 'significanceOverride': 'UNKNOWN', 'version': 0, 'type': 'FEATURE_REQUEST', 'title': 'Add-ons for Google Classroom', 'comment': \"Before filing an issue, please read and follow these instructions carefully. \\n\\nFirst, please search through existing issues to ensure that the feature request has not already been reported. You can start the search here: https://issuetracker.google.com/savedsearches/566256\\n\\nIf the feature has already been requested, you can click the star next to the issue number to subscribe and receive updates. We prioritize responding to the issues with the most stars. You can also comment on the issue to provide any context of how the feature would benefit you.\\n\\nAlso, please verify that the functionality you are requesting is not already present in the current API and tools.\\n\\nIf your feature has not been requested, please provide all of the following:\\n-----------------------------------------------------------------------------------------------------------------------------\\nA short description of the request:\\nWe need to have a space for add-on in Google Classroom. \\n\\nWhat is the purpose of this new feature?\\nI am developing a seating chart app that works with the API it would be a better UX if the user could stay on the same window instead of switch between tabs.\\n\\nWhat existing APIs would this affect?\\nClassroom v1\\n\\nWhat existing data does this use?\\nThis would use student id's to match with seats and teacher ids to match rosters with seating charts.\\n\\nPlease provide any additional information below.\\nI am an educator and realize that have all the tools in one platform would tremendously benefit the workflow for us.\\nI've created a prototype in the Schoology Platform and believe user of Classroom would also benefit.   I can Image other tools that would help both educators and students the should also be easily accessible through Classroom.\", 'user': 'le...@videmantay.net', 'componentId': 191645, 'isDeleted': False, 'cc': ['gr...@google.com', 'ho...@google.com', 'le...@videmantay.net', 'ob...@google.com'], 'isArchived': False, 'status': 'NEW', 'priority': 'P2', 'inProd': False, 'reporter': 'le...@videmantay.net'}]}, 'events': [{'postDiffs': [{'isUser': False, 'timestamp': 1521908332752, 'displayName': 'Component', 'important': False, 'newValue': '191645', 'type': 'SINGLE_VALUE', 'name': 'component'}, {'isUser': False, 'timestamp': 1521908332752, 'displayName': 'Status', 'important': True, 'newValue': 'New', 'type': 'SINGLE_VALUE', 'name': 'status'}, {'isUser': True, 'timestamp': 1521908332752, 'displayName': 'Reporter', 'important': False, 'newValue': 'le...@videmantay.net', 'type': 'SINGLE_VALUE', 'name': 'reporter'}, {'isUser': True, 'name': 'cc', 'timestamp': 1521908332752, 'removed': [], 'important': False, 'displayName': 'CC', 'type': 'COLLECTION', 'added': ['gr...@google.com', 'ho...@google.com', 'le...@videmantay.net', 'ob...@google.com']}, {'isUser': False, 'timestamp': 1521908332752, 'displayName': 'Type', 'important': False, 'newValue': 'Feature Request', 'type': 'SINGLE_VALUE', 'name': 'type'}, {'isUser': False, 'timestamp': 1521908332752, 'displayName': 'Priority', 'important': False, 'newValue': 'P2', 'type': 'SINGLE_VALUE', 'name': 'priority'}, {'isUser': False, 'timestamp': 1521908332752, 'displayName': 'Severity', 'important': False, 'newValue': 'S2', 'type': 'SINGLE_VALUE', 'name': 'severity'}, {'isUser': False, 'timestamp': 1521908332752, 'displayName': 'Title', 'important': False, 'newValue': 'Add-ons for Google Classroom', 'type': 'SINGLE_VALUE', 'name': 'title'}], 'modifiedDate': 1521908332752, 'comment': 'Before filing an issue, please read and follow these instructions carefully. <br><br>First, please search through existing issues to ensure that the feature request has not already been reported. You can start the search here: <a href=\"https://issuetracker.google.com/savedsearches/566256\" target=\"_blank\" rel=\"noreferrer nofollow\">https://issuetracker.google.com/savedsearches/566256</a><br><br>If the feature has already been requested, you can click the star next to the issue number to subscribe and receive updates. We prioritize responding to the issues with the most stars. You can also comment on the issue to provide any context of how the feature would benefit you.<br><br>Also, please verify that the functionality you are requesting is not already present in the current API and tools.<br><br>If your feature has not been requested, please provide all of the following:<br>-----------------------------------------------------------------------------------------------------------------------------<br>A short description of the request:<br>We need to have a space for add-on in Google Classroom. <br><br>What is the purpose of this new feature?<br>I am developing a seating chart app that works with the API it would be a better UX if the user could stay on the same window instead of switch between tabs.<br><br>What existing APIs would this affect?<br>Classroom v1<br><br>What existing data does this use?<br>This would use student id&#39;s to match with seats and teacher ids to match rosters with seating charts.<br><br>Please provide any additional information below.<br>I am an educator and realize that have all the tools in one platform would tremendously benefit the workflow for us.<br>I&#39;ve created a prototype in the Schoology Platform and believe user of Classroom would also benefit. &nbsp; I can Image other tools that would help both educators and students the should also be easily accessible through Classroom.', 'userPerformingAction': 'le...@videmantay.net', 'commentNumber': 1, 'summary': 'Reported Issue', 'preDiffs': [], 'unlinkifiedComment': \"Before filing an issue, please read and follow these instructions carefully. \\n\\nFirst, please search through existing issues to ensure that the feature request has not already been reported. You can start the search here: https://issuetracker.google.com/savedsearches/566256\\n\\nIf the feature has already been requested, you can click the star next to the issue number to subscribe and receive updates. We prioritize responding to the issues with the most stars. You can also comment on the issue to provide any context of how the feature would benefit you.\\n\\nAlso, please verify that the functionality you are requesting is not already present in the current API and tools.\\n\\nIf your feature has not been requested, please provide all of the following:\\n-----------------------------------------------------------------------------------------------------------------------------\\nA short description of the request:\\nWe need to have a space for add-on in Google Classroom. \\n\\nWhat is the purpose of this new feature?\\nI am developing a seating chart app that works with the API it would be a better UX if the user could stay on the same window instead of switch between tabs.\\n\\nWhat existing APIs would this affect?\\nClassroom v1\\n\\nWhat existing data does this use?\\nThis would use student id's to match with seats and teacher ids to match rosters with seating charts.\\n\\nPlease provide any additional information below.\\nI am an educator and realize that have all the tools in one platform would tremendously benefit the workflow for us.\\nI've created a prototype in the Schoology Platform and believe user of Classroom would also benefit.   I can Image other tools that would help both educators and students the should also be easily accessible through Classroom.\", 'version': 0, 'isMajorEvent': True, 'addedAttachmentIds': [16665195]}], 'attachmentMap': {'16665195': {'contentType': 'image/png', 'attachmentId': 16665195, 'description': '', 'filename': 'Screen Shot 2018-03-07 at 11.33.41 PM.png', 'media': {'contentType': 'image/png', 'filename': 'Screen Shot 2018-03-07 at 11.33.41 PM.png', 'length': 542660}, 'filecompUrl': 'https://doc-14-5o-issuetracker.googleusercontent.com/attachments/4cbreoq3so283ker3f5kmapot13v74da/gi1jtm2mgnammm30pcpq1occc1op8ghh/1521922500000/191645/113548024460495540073/76201362::16665195::191645', 'length': 542660}}, 'customFields': [{'componentId': 191625, 'required': False, 'customFieldId': 84515, 'allowedValue': ['Auth', 'Documentation', 'Performance', 'Quotas', 'Security'], 'fieldSignificance': 'MINOR', 'type': 'ENUM', 'name': 'Concern'}, {'componentId': 191625, 'required': False, 'customFieldId': 85265, 'fieldSignificance': 'SILENT', 'type': 'TEXT', 'name': 'Original ID'}]}\n"
     ]
    }
   ],
   "source": [
    "def get_raw_issue(issue_id, cookies=cookies):\n",
    "    response = requests.get(\"https://issuetracker.google.com/action/issues/{}\".format(issue_id), cookies=cookies)\n",
    "    lines = [x for x in response.iter_lines()]\n",
    "    return [json.loads(lines[1].decode())]\n",
    "\n",
    "raw_issue_details = []\n",
    "issue_ids = [x['issueId'] for x in raw_issues]\n",
    "pool = multiprocessing.Pool(4)\n",
    "pool_output = pool.map(get_raw_issue, issue_ids)\n",
    "for batch in pool_output:\n",
    "    raw_issue_details.extend(batch)\n",
    "pool.close()\n",
    "\n",
    "print(\"Example raw issue: \")\n",
    "print(raw_issue_details[0])"
   ]
  },
  {
   "cell_type": "markdown",
   "metadata": {},
   "source": [
    "There is quite a bit of information here, some things to note:\n",
    "* We will be aggregating the voteCount values and counting the number of issues to help prioritize our clusters.\n",
    "* We will be extracting the first comment of each issue to use as the corpus for our clustering.\n",
    "* The corpus contains html formatting and urls which we will likely strip out.\n",
    "* There may be other strings within the first comment that have a negative impact on the clustering algorithms.\n",
    "\n",
    "Let's extract the information we need and try to clean up the text..."
   ]
  },
  {
   "cell_type": "code",
   "execution_count": 5,
   "metadata": {
    "collapsed": false
   },
   "outputs": [
    {
     "name": "stdout",
     "output_type": "stream",
     "text": [
      "Here is an example issue with the data we will use for clustering: \n",
      "{\n",
      "  \"description\": \"[REMEMBER: Vote on existing features using the \\\"Me Too!\\\" button. This will help us prioritize the most requested features.]1) What's the feature?Currently the only way to display date is in a table and hide the table header with the same color font as the theme background2) How do you plan on using this feature?I want to show the maximum date (again a feature not available) at the top of the report3) What's the impact that this feature will have on you or your business? (Time saved, new users, etc.)Time Saved and Provide latest date at the top of the report without the workaround.\",\n",
      "  \"dirty_dsecription\": \"[REMEMBER: Vote on existing features using the &quot;Me Too!&quot; button. This will help us prioritize the most requested features.]<br><br>1) What&#39;s the feature?<br>Currently the only way to display date is in a table and hide the table header with the same color font as the theme background<br><br>2) How do you plan on using this feature?<br>I want to show the maximum date (again a feature not available) at the top of the report<br><br>3) What&#39;s the impact that this feature will have on you or your business? (Time saved, new users, etc.)<br>Time Saved and Provide latest date at the top of the report without the workaround.\",\n",
      "  \"id\": 76124123,\n",
      "  \"votes\": 0\n",
      "}\n"
     ]
    }
   ],
   "source": [
    "import html\n",
    "import re\n",
    "\n",
    "issues = []\n",
    "\n",
    "for i in raw_issue_details:\n",
    "    issue_id = i['issue']['issueId']\n",
    "    issue_votes = i['issue']['aggregatedData']['voteCount']\n",
    "    issue_dirty_description = i['events'][0].get('comment', \"\")\n",
    "    issue_description = issue_dirty_description\n",
    "    \n",
    "    # There appears to be HTML formatting support in comments.\n",
    "    issue_description = re.sub('<[^<]+?>', '', issue_description)\n",
    "    \n",
    "    # Remove URLs.\n",
    "    issue_description = re.sub(r'https?:\\/\\/.*[\\r\\n]*', '', issue_description, flags=re.MULTILINE) \n",
    "    \n",
    "    # Escaped characters too!\n",
    "    issue_description = html.unescape(issue_description)\n",
    "    \n",
    "    # There seems to be other boilerplate text that should be removed, the following are some quoted text based \n",
    "    # multiple attempts at clustering:\n",
    "    #     Before filing an issue, please read and follow these instructions carefully...\n",
    "    #     Build: 3.0.1, AI-171.4443003, 201711091821, AI-171.4443003, JRE 1.8.0_152...\n",
    "    #     # WARNING: DO NOT INCLUDE YOUR API KEY OR CLIENT ID CREDENTIALS # It is OK ...\n",
    "    #     As Google Maps was recently updated with a fresh new look [1], we're also updating...\n",
    "    #     [REMEMBER: Vote on existing features using the \"Me Too!\" button...\n",
    "    \n",
    "    issues.append({'id': issue_id, 'votes': issue_votes, 'dirty_dsecription': issue_dirty_description, \n",
    "                   'description': issue_description})\n",
    "\n",
    "print(\"Here is an example issue with the data we will use for clustering: \")\n",
    "print(json.dumps(issues[35], indent=2, sort_keys=True))"
   ]
  },
  {
   "cell_type": "markdown",
   "metadata": {},
   "source": [
    "[Go to top](#top)\n",
    "### Cluster  <a class=\"anchor\" id=\"cluster\"></a>\n",
    "\n",
    "Now that we have some text, we can try to cluster the text to see what groups come out of it. Will be using this guide as inspiration: https://pythonprogramminglanguage.com/kmeans-text-clustering/\n",
    "\n",
    "Lets apply some of the machine learning k-means clustering goodness to produce some a list of top 10 features in each cluster."
   ]
  },
  {
   "cell_type": "code",
   "execution_count": 6,
   "metadata": {
    "collapsed": false
   },
   "outputs": [
    {
     "name": "stdout",
     "output_type": "stream",
     "text": [
      "Here is a dict describing a cluster that was detected: \n",
      "{\n",
      "  \"features\": [\n",
      "    \"resolution\",\n",
      "    \"face recognition\",\n",
      "    \"recognition\",\n",
      "    \"face\",\n",
      "    \"higher\",\n",
      "    \"resolutions\",\n",
      "    \"640x480\",\n",
      "    \"dp\",\n",
      "    \"preview\",\n",
      "    \"output\"\n",
      "  ],\n",
      "  \"index\": 35,\n",
      "  \"issues\": 0,\n",
      "  \"votes\": 0\n",
      "}\n"
     ]
    }
   ],
   "source": [
    "number_of_clusters = 50  # Gow many clusters?\n",
    "ngram_range = (1, 2) # Single words or two-word phrases?\n",
    "\n",
    "# The following words appear to throw off the clustering and produce clusters that are not valuable.\n",
    "extra_stop_words = [\"feature\", \"features\", \n",
    "                    \"issue\", \"issues\", \n",
    "                    \"requests\", \"requests\", \n",
    "                    \"thing\", \"things\", \n",
    "                    \"google\"]\n",
    "\n",
    "from sklearn.feature_extraction import text\n",
    "from sklearn.feature_extraction.text import TfidfVectorizer\n",
    "from sklearn.cluster import KMeans\n",
    "from sklearn.metrics import adjusted_rand_score\n",
    "\n",
    "feature_documents = [x['description'] for x in issues]\n",
    "\n",
    "stop_words = text.ENGLISH_STOP_WORDS.union(extra_stop_words)\n",
    "vectorizer = TfidfVectorizer(stop_words=stop_words, ngram_range=ngram_range)\n",
    "x = vectorizer.fit_transform(feature_documents)\n",
    "\n",
    "feature_model = KMeans(n_clusters=number_of_clusters, init='k-means++', max_iter=100, n_init=1)\n",
    "feature_model.fit(x)\n",
    "\n",
    "order_centroids = feature_model.cluster_centers_.argsort()[:, ::-1]\n",
    "terms = vectorizer.get_feature_names()\n",
    "\n",
    "clusters = []\n",
    "\n",
    "for i in range(number_of_clusters):\n",
    "    clusters.append({\n",
    "            'index': i,\n",
    "            'features': [terms[x] for x in order_centroids[i, :10]],\n",
    "            'votes': 0,\n",
    "            'issues': 0\n",
    "        })    \n",
    "\n",
    "print(\"Here is a dict describing a cluster that was detected: \")\n",
    "print(json.dumps(clusters[35], indent=2, sort_keys=True))"
   ]
  },
  {
   "cell_type": "markdown",
   "metadata": {},
   "source": [
    "Now I can make predictions of which cluster a string belongs to..."
   ]
  },
  {
   "cell_type": "code",
   "execution_count": 7,
   "metadata": {
    "collapsed": false
   },
   "outputs": [
    {
     "name": "stdout",
     "output_type": "stream",
     "text": [
      "The following command belongs in cluster 31:\n",
      "apps-scripts-notifications@google.com send me mail with text (russian):Не удалось выполнить скрипт Gmail Meter. Ниже приведена сводка сбоев. Чтобы настроить триггеры для этого скрипта или изменить параметры получения уведомлений о сбоях, нажмите здесь.Начало  Функция Сообщение об ошибке     Триггер Конец29.12.17 1:20   activityReport  Для выполнения этого действия необходима авторизация.   time-based      29.12.17 1:20С уважением,Google Apps ScriptНужна помощь? Ознакомьтесь с документацией по скриптам Google Apps. Не отвечайте на это сообщение. (c) Google, 2017.\n",
      "\n",
      "Feature cluster 31:\n",
      " using\n",
      " data\n",
      " time\n",
      " new\n",
      " users\n",
      " like\n",
      " use\n",
      " saved\n",
      " time saved\n",
      " business\n"
     ]
    }
   ],
   "source": [
    "import random\n",
    "\n",
    "idx = random.randint(0, len(issues))\n",
    "\n",
    "y = vectorizer.transform([issues[idx]['description']])\n",
    "prediction = feature_model.predict(y)\n",
    "\n",
    "print(\"The following command belongs in cluster {}:\".format(prediction[0]))\n",
    "print(issues[idx]['description'])\n",
    "\n",
    "print(\"\")\n",
    "print(\"Feature cluster %d:\" % prediction[0]),\n",
    "for ind in order_centroids[prediction[0], :10]:\n",
    "    print(' %s' % terms[ind])"
   ]
  },
  {
   "cell_type": "markdown",
   "metadata": {
    "collapsed": true
   },
   "source": [
    "[Go to top](#top)\n",
    "\n",
    "### Prioritize  <a class=\"anchor\" id=\"prioritize\"></a>\n",
    "\n",
    "Now that we have a model with approximately 50 clusters, we can start prioritizing these clusters.  How should we prioritize?  Let's iterate over all of the issues, and aggregate data in the list of clusters we created earlier.  We will aggregate the number of issues, and the combined votes."
   ]
  },
  {
   "cell_type": "code",
   "execution_count": 8,
   "metadata": {
    "collapsed": false
   },
   "outputs": [],
   "source": [
    "for cluster in clusters:\n",
    "    cluster['votes'] = 0\n",
    "    cluster['issues'] = 0\n",
    "\n",
    "for issue in issues:\n",
    "    vectorized_description = vectorizer.transform([issue['description']])\n",
    "    prediction = feature_model.predict(vectorized_description)\n",
    "    issues[issues.index(issue)]['prediction'] = prediction[0]\n",
    "    clusters[issue['prediction']]['votes'] += issue['votes']\n",
    "    clusters[issue['prediction']]['issues'] += 1"
   ]
  },
  {
   "cell_type": "markdown",
   "metadata": {},
   "source": [
    "Now let's sort the clusters by the number of issues or the number of votes to see the ordered lists..."
   ]
  },
  {
   "cell_type": "code",
   "execution_count": 9,
   "metadata": {
    "collapsed": false
   },
   "outputs": [
    {
     "name": "stdout",
     "output_type": "stream",
     "text": [
      "Top clusters sorted by issue count: \n",
      "Cluster: 31, issues: 1481\n",
      "Cluster: 7, issues: 129\n",
      "Cluster: 43, issues: 40\n",
      "Cluster: 17, issues: 19\n",
      "Cluster: 1, issues: 14\n",
      "Cluster: 16, issues: 12\n",
      "Cluster: 33, issues: 6\n",
      "Cluster: 30, issues: 4\n",
      "Cluster: 48, issues: 4\n",
      "Cluster: 0, issues: 1\n",
      "\n",
      "Top clusters sorted by vote count: \n",
      "Cluster: 31, votes: 1495\n",
      "Cluster: 7, votes: 27\n",
      "Cluster: 15, votes: 20\n",
      "Cluster: 48, votes: 14\n",
      "Cluster: 45, votes: 13\n",
      "Cluster: 17, votes: 10\n",
      "Cluster: 34, votes: 5\n",
      "Cluster: 0, votes: 3\n",
      "Cluster: 42, votes: 2\n",
      "Cluster: 43, votes: 2\n"
     ]
    }
   ],
   "source": [
    "clusters_by_issues = sorted(clusters, key=lambda k: k['issues'], reverse=True) \n",
    "clusters_by_votes = sorted(clusters, key=lambda k: k['votes'], reverse=True) \n",
    "\n",
    "print(\"Top clusters sorted by issue count: \")\n",
    "for c in clusters_by_issues[:10]:\n",
    "    print(\"Cluster: {}, issues: {}\".format(c['index'], c['issues']))\n",
    "    \n",
    "print()\n",
    "print(\"Top clusters sorted by vote count: \")\n",
    "for c in clusters_by_votes[:10]:\n",
    "    print(\"Cluster: {}, votes: {}\".format(c['index'], c['votes']))"
   ]
  },
  {
   "cell_type": "markdown",
   "metadata": {},
   "source": [
    "Although the sorted lists look similar, they are not the same order.  Since we have two criteria for sorting, we should come up with some kind of index that uses both the votes and the issue count values."
   ]
  },
  {
   "cell_type": "code",
   "execution_count": 10,
   "metadata": {
    "collapsed": false
   },
   "outputs": [
    {
     "name": "stdout",
     "output_type": "stream",
     "text": [
      "Top 10 clusters sorted by ratio: \n",
      "    Cluster:    31, score:    1.000, issue_score:    1.000, vote_score:    1.000\n",
      "    Cluster:     7, score:    0.052, issue_score:    0.086, vote_score:    0.018\n",
      "    Cluster:    43, score:    0.014, issue_score:    0.026, vote_score:    0.001\n",
      "    Cluster:    17, score:    0.009, issue_score:    0.012, vote_score:    0.007\n",
      "    Cluster:    15, score:    0.007, issue_score:    0.000, vote_score:    0.013\n",
      "    Cluster:    48, score:    0.006, issue_score:    0.002, vote_score:    0.009\n",
      "    Cluster:     1, score:    0.005, issue_score:    0.009, vote_score:    0.001\n",
      "    Cluster:    45, score:    0.004, issue_score:    0.000, vote_score:    0.009\n",
      "    Cluster:    16, score:    0.004, issue_score:    0.007, vote_score:    0.001\n",
      "    Cluster:    33, score:    0.002, issue_score:    0.003, vote_score:    0.001\n"
     ]
    }
   ],
   "source": [
    "# Customize these one is more important than the other.\n",
    "vote_multiplier = 1\n",
    "issue_multiplier = 1\n",
    "\n",
    "# In order to normalize the votes and issue counts, we need the min/max\n",
    "min_votes = min([c['votes'] for c in clusters])\n",
    "max_votes = max([c['votes'] for c in clusters])\n",
    "min_issues = min([c['issues'] for c in clusters])\n",
    "max_issues = max([c['issues'] for c in clusters])\n",
    "\n",
    "# Calculate the scores per cluster using the min/max.  Avrage the two scores.\n",
    "for cluster in clusters:\n",
    "    cluster['vote_score'] = vote_multiplier * ((cluster['votes'] - min_votes) / (max_votes - min_votes))\n",
    "    cluster['issue_score'] = issue_multiplier * ((cluster['issues'] - min_issues) / (max_issues - min_issues))\n",
    "    cluster['score'] = (cluster['vote_score'] + cluster['issue_score']) / 2\n",
    "\n",
    "# Sort by the new score value.\n",
    "clusters_by_score= sorted(clusters, key=lambda k: k['score'], reverse=True)\n",
    "\n",
    "print(\"Top 10 clusters sorted by ratio: \")\n",
    "for c in clusters_by_score[:10]:\n",
    "    print(\"    Cluster: {0:5d}, score: {1:8.3f}, issue_score: {2:8.3f}, vote_score: {3:8.3f}\".format(\n",
    "            c['index'], c['score'], \n",
    "            clusters[c['index']]['issue_score'],\n",
    "            clusters[c['index']]['vote_score']))\n",
    "                                                                                       "
   ]
  },
  {
   "cell_type": "markdown",
   "metadata": {},
   "source": [
    "Let's dump some information about this top cluster..."
   ]
  },
  {
   "cell_type": "code",
   "execution_count": 11,
   "metadata": {
    "collapsed": false
   },
   "outputs": [
    {
     "name": "stdout",
     "output_type": "stream",
     "text": [
      "{\n",
      "  \"features\": [\n",
      "    \"using\",\n",
      "    \"data\",\n",
      "    \"time\",\n",
      "    \"new\",\n",
      "    \"users\",\n",
      "    \"like\",\n",
      "    \"use\",\n",
      "    \"saved\",\n",
      "    \"time saved\",\n",
      "    \"business\"\n",
      "  ],\n",
      "  \"index\": 31,\n",
      "  \"issue_score\": 1.0,\n",
      "  \"issues\": 1481,\n",
      "  \"score\": 1.0,\n",
      "  \"vote_score\": 1.0,\n",
      "  \"votes\": 1495\n",
      "}\n"
     ]
    }
   ],
   "source": [
    "print(json.dumps(clusters_by_score[0], indent=2, sort_keys=True))"
   ]
  },
  {
   "cell_type": "markdown",
   "metadata": {},
   "source": [
    "Let's take a sample of the issues that are part of this cluster..."
   ]
  },
  {
   "cell_type": "code",
   "execution_count": 18,
   "metadata": {
    "collapsed": false
   },
   "outputs": [
    {
     "name": "stdout",
     "output_type": "stream",
     "text": [
      "-----\n",
      "[REMEMBER: Vote on existing features using the \"Me Too!\" button. This will help us prioritize the most requested features.]1) What's the feature?2) How do you plan on using this feature?3) What's the impact that this feature will have on you or your business? (Time saved, new users, etc.)\n",
      "-----\n",
      "[REMEMBER: Vote on existing features using the \"Me Too!\" button. This will help us prioritize the most requested features.]1) What's the feature?2) How do you plan on using this feature?3) What's the impact that this feature will have on you or your business? (Time saved, new users, etc.)\n",
      "-----\n",
      "[REMEMBER: Vote on existing features using the \"Me Too!\" button. This will help us prioritize the most requested features.]1) What's the feature?2) How do you plan on using this feature?3) What's the impact that this feature will have on you or your business? (Time saved, new users, etc.)\n",
      "-----\n",
      "[REMEMBER: Vote on existing features using the \"Me Too!\" button. This will help us prioritize the most requested features.]1) What's the feature?2) How do you plan on using this feature?3) What's the impact that this feature will have on you or your business? (Time saved, new users, etc.)\n",
      "-----\n",
      "[REMEMBER: Vote on existing features using the \"Me Too!\" button. This will help us prioritize the most requested features.]1) What's the feature?2) How do you plan on using this feature?3) What's the impact that this feature will have on you or your business? (Time saved, new users, etc.)\n",
      "-----\n",
      "[REMEMBER: Vote on existing features using the \"Me Too!\" button. This will help us prioritize the most requested features.]1) What's the feature?2) How do you plan on using this feature?3) What's the impact that this feature will have on you or your business? (Time saved, new users, etc.)\n",
      "-----\n",
      "[REMEMBER: Vote on existing features using the \"Me Too!\" button. This will help us prioritize the most requested features.]1) What's the feature?2) How do you plan on using this feature?3) What's the impact that this feature will have on you or your business? (Time saved, new users, etc.)\n",
      "-----\n",
      "[REMEMBER: Vote on existing features using the \"Me Too!\" button. This will help us prioritize the most requested features.]1) What's the feature?2) How do you plan on using this feature?3) What's the impact that this feature will have on you or your business? (Time saved, new users, etc.)agregar el app script de google\n",
      "-----\n",
      "[REMEMBER: Vote on existing features using the \"Me Too!\" button. This will help us prioritize the most requested features.]1) What's the feature?2) How do you plan on using this feature?3) What's the impact that this feature will have on you or your business? (Time saved, new users, etc.)\n",
      "-----\n",
      "[REMEMBER: Vote on existing features using the \"Me Too!\" button. This will help us prioritize the most requested features.]1) What's the feature?2) How do you plan on using this feature?3) What's the impact that this feature will have on you or your business? (Time saved, new users, etc.)\n",
      "-----\n",
      "[REMEMBER: Vote on existing features using the \"Me Too!\" button. This will help us prioritize the most requested features.]1) What's the feature?2) How do you plan on using this feature?3) What's the impact that this feature will have on you or your business? (Time saved, new users, etc.)\n",
      "-----\n",
      "[REMEMBER: Vote on existing features using the \"Me Too!\" button. This will help us prioritize the most requested features.]1) What's the feature?Allow duplicate filters2) How do you plan on using this feature?3) What's the impact that this feature will have on you or your business? (Time saved, new users, etc.)\n",
      "-----\n",
      "[REMEMBER: Vote on existing features using the \"Me Too!\" button. This will help us prioritize the most requested features.]1) What's the feature?Store visit data2) How do you plan on using this feature?3) What's the impact that this feature will have on you or your business? (Time saved, new users, etc.)Time saved, reporting\n",
      "-----\n",
      "[REMEMBER: Vote on existing features using the \"Me Too!\" button. This will help us prioritize the most requested features.]1) What's the feature?2) How do you plan on using this feature?3) What's the impact that this feature will have on you or your business? (Time saved, new users, etc.)\n"
     ]
    }
   ],
   "source": [
    "for issue in [i for i in issues if i['prediction'] == clusters_by_score[6]['index']]:\n",
    "    print(\"-----\")\n",
    "    print(issue['description'])"
   ]
  }
 ],
 "metadata": {
  "kernelspec": {
   "display_name": "gpm",
   "language": "python",
   "name": "gpm"
  },
  "language_info": {
   "codemirror_mode": {
    "name": "ipython",
    "version": 3
   },
   "file_extension": ".py",
   "mimetype": "text/x-python",
   "name": "python",
   "nbconvert_exporter": "python",
   "pygments_lexer": "ipython3",
   "version": "3.5.3"
  }
 },
 "nbformat": 4,
 "nbformat_minor": 2
}
