{
 "cells": [
  {
   "cell_type": "markdown",
   "metadata": {},
   "source": [
    "# The Google Product Manager Project <a class=\"anchor\" id=\"top\"></a>\n",
    "\n",
    "## Table of contents: \n",
    "* [Goal](#goal)\n",
    "* [Method](#method)\n",
    "* [Requirements](#requirements)\n",
    "* [Process](#process)\n",
    "    * [Authenticate](#auth)\n",
    "    * [List issues](#list)\n",
    "    * [Get issue details and clean up the data](#details)\n",
    "    * [Corpus](#corpus)\n",
    "    * [Cluster](#cluster)\n",
    "    * [Prioritize](#prioritize)\n",
    "\n",
    "## Goal <a class=\"anchor\" id=\"goal\"></a>\n",
    "\n",
    "The goal of this Jupyter notebook is to mine the information from Google's issue tracker to identity the most popular feature and to identify the who, what, where, when, and why about the problem the feature solves.\n",
    "\n",
    "[Go to top](#top)\n",
    "\n",
    "## Method <a class=\"anchor\" id=\"method\"></a>\n",
    "\n",
    "The following is a high-level strategy of attaining the above goal:\n",
    "\n",
    "1. Pull raw data about feature requests from Google's issue tracker.\n",
    "2. Extract the \"description\" of the issue.\n",
    "3. Use a tokenizer and vectorizer to extract the text features (bigrams and unigrams)\n",
    "4. Use the K-means unsupervised clustering algorithm to identify clusters of issues.\n",
    "5. Identify the most popular cluster of features using an index.\n",
    "6. Identify the scenario (W5H).\n",
    "7. Identify the persona.\n",
    "8. Identify stories.\n",
    "9. Priorize the stories.\n",
    "\n",
    "[Go to top](#top)\n",
    "\n",
    "## Requirements <a class=\"anchor\" id=\"requirements\"></a>\n",
    "\n",
    "1. Clone this repository.\n",
    "2. Ensure you have python3 and jupyter-notebook installed on your system.\n",
    "3. Create an virtual environment.\n",
    "4. Activate the virtual environment.\n",
    "5. Install the dependencies in the requirements.txt file.\n",
    "5. Run the command jupyter-notebook.\n",
    "6. Open the google-product-manager.ipynb document.\n",
    "\n",
    "[Go to top](#top)\n",
    "\n",
    "## Process <a class=\"anchor\" id=\"process\"></a>\n",
    "\n",
    "### Authenticate <a class=\"anchor\" id=\"auth\"></a>\n",
    "\n",
    "Google's issue tracker is public.  It allows anyone to report issues and request features.  The issue tracker does not have a supported API or SDK (that I can tell), but when loading the pages with developer mode enabled I can find a request that returns a JSON structure with the details necessary to do some kind of post-processing.\n",
    "\n",
    "When looking at the issue tracker in development mode, we can see that a XHR request is made using the following URL:\n",
    "\n",
    "https://issuetracker.google.com/action/issues?count=25&p=1&q=status:open+type:feature_request&s=created_time:desc\n",
    "\n",
    "Since the HTTP request requires authentication and there is no official API or SDK for the issue tracker, I used a browsercookie library in python to bypass the authentication piece (I tried using APIs, but had difficulty)."
   ]
  },
  {
   "cell_type": "code",
   "execution_count": 1,
   "metadata": {
    "collapsed": false
   },
   "outputs": [
    {
     "name": "stdout",
     "output_type": "stream",
     "text": [
      "Firefox session filename does not exist: /home/daniel/.mozilla/firefox/edv7ja09.default/sessionstore.js\n"
     ]
    }
   ],
   "source": [
    "import browsercookie\n",
    "\n",
    "cookies = browsercookie.firefox()\n",
    "\n",
    "# NOTE: The warning below occurs because Firefox is open and being used for Jupyter Notebook.\n",
    "# for more information, see...\n",
    "# https://bitbucket.org/richardpenman/browsercookie/issues/14/sessionstorejs-does-not-exist-if-firefox"
   ]
  },
  {
   "cell_type": "markdown",
   "metadata": {},
   "source": [
    "[Go to top](#top)\n",
    "\n",
    "### Get list of issues <a class=\"anchor\" id=\"list\"></a>\n",
    "\n",
    "After looking at the response, I found several caveats:\n",
    "* The response is multi-line and the first line is not valid json.\n",
    "* The syntax required the character \"+\" which the python requests library encodes by default.\n",
    "* The results are paginated.\n",
    "* There are thousands of results which may take time to get via http requests.\n",
    "\n",
    "Since we are going to make multiple HTTP requests and it may take some time, let's first define some functions that will be later used by the multi-processing library."
   ]
  },
  {
   "cell_type": "code",
   "execution_count": 2,
   "metadata": {
    "collapsed": false
   },
   "outputs": [],
   "source": [
    "import requests\n",
    "import json\n",
    "\n",
    "def generate_urls(cookies=cookies, count=25):\n",
    "    \"\"\" Will general all of the URLs required due to the pagination of the results. \"\"\"\n",
    "    url = 'https://issuetracker.google.com/action/issues?count={count}&p=' + \\\n",
    "          '{page}&q=status:open+type:feature_request&s=created_time:desc'\n",
    "\n",
    "    # Make a small request to get the number of issues.\n",
    "    response = requests.get(url.format(page=1, count=1), cookies=cookies)\n",
    "    lines = [x for x in response.iter_lines()] # workaround for first line.\n",
    "    data = json.loads(lines[1].decode())\n",
    "\n",
    "    # Calculate the number of pages required to get all of the results.\n",
    "    number_of_pages = int(data['numTotalResults'] / count) + 1\n",
    "\n",
    "    # Use the number of pages to generate the urls for all of the requests.\n",
    "    for page in range(1,number_of_pages + 1):\n",
    "        yield url.format(page=page, count=count)\n",
    "\n",
    "def get_raw_issue(url):\n",
    "    \"\"\" Pull pull down the response of each URL. \"\"\"\n",
    "    response = requests.get(url, cookies=cookies)\n",
    "    lines = [x for x in response.iter_lines()] # workaround for first line.\n",
    "    data = json.loads(lines[1].decode())\n",
    "    issue_ids = list()\n",
    "    return data['issues']"
   ]
  },
  {
   "cell_type": "markdown",
   "metadata": {},
   "source": [
    "Now, let's use multiprocessing to pull down the information."
   ]
  },
  {
   "cell_type": "code",
   "execution_count": 3,
   "metadata": {
    "collapsed": false,
    "scrolled": true
   },
   "outputs": [
    {
     "name": "stdout",
     "output_type": "stream",
     "text": [
      "The number of URLS generated: 69\n",
      "A sample of the urls: \n",
      " https://issuetracker.google.com/action/issues?count=25&p=1&q=status:open+type:feature_request&s=created_time:desc\n",
      " https://issuetracker.google.com/action/issues?count=25&p=2&q=status:open+type:feature_request&s=created_time:desc\n",
      " https://issuetracker.google.com/action/issues?count=25&p=3&q=status:open+type:feature_request&s=created_time:desc\n",
      "The number of issues detected: 1725\n",
      "An example issue: \n",
      "{'aggregatedData': {'voteCount': 0, 'modifiedTimeMicros': 1521908332752000, 'createdTimeMicros': 1521908332752000}, 'snapshot': [{'type': 'FEATURE_REQUEST', 'title': 'Add-ons for Google Classroom', 'reporter': 'le...@videmantay.net', 'isArchived': False, 'significanceOverride': 'UNKNOWN', 'priority': 'P2', 'componentId': 191645, 'inProd': False, 'status': 'NEW', 'user': 'le...@videmantay.net', 'severity': 'S2', 'isDeleted': False, 'version': 0, 'cc': ['gr...@google.com', 'ho...@google.com', 'le...@videmantay.net', 'ob...@google.com'], 'createdTimeMicros': 1521908332752000}], 'userData': {'voted': False, 'starred': False}, 'issueId': 76201362}\n"
     ]
    }
   ],
   "source": [
    "import multiprocessing\n",
    "\n",
    "urls = [x for x in generate_urls()]\n",
    "print(\"The number of URLS generated: \" + str(len(urls)))\n",
    "print(\"A sample of the urls: \")\n",
    "for u in urls[:3]:\n",
    "    print(\" \" + u)\n",
    "\n",
    "raw_issues = list()\n",
    "pool = multiprocessing.Pool(4)\n",
    "pool_output = pool.map(get_raw_issue, urls)\n",
    "for batch in pool_output:\n",
    "    raw_issues.extend(batch)\n",
    "pool.close()\n",
    "    \n",
    "print(\"The number of issues detected: \" + str(len(raw_issues)))\n",
    "print(\"An example issue: \")\n",
    "print(raw_issues[0])"
   ]
  },
  {
   "cell_type": "markdown",
   "metadata": {},
   "source": [
    "[Go to top](#top)\n",
    "\n",
    "### Get issue details and clean up the data <a class=\"anchor\" id=\"details\"></a>\n",
    "\n",
    "Although we have a list of issues and some information about the issues, we only have the \"title\" value for each issue to use as our corpus. In order to get more details, we need to make additional requests to urls like this one...\n",
    "\n",
    "https://issuetracker.google.com/action/issues/74163608\n",
    "\n",
    "...to get more details about each case. Since we need to repeat this operation several thousand times, we should use multiprocessing to make the requests in parallel."
   ]
  },
  {
   "cell_type": "code",
   "execution_count": 4,
   "metadata": {
    "collapsed": false,
    "scrolled": true
   },
   "outputs": [
    {
     "name": "stdout",
     "output_type": "stream",
     "text": [
      "Example raw issue: \n",
      "{'issue': {'aggregatedData': {'voteCount': 0, 'modifiedTimeMicros': 1521908332752000, 'createdTimeMicros': 1521908332752000}, 'snapshot': [{'isDeleted': False, 'priority': 'P2', 'snapshotNumber': 1, 'reporter': 'le...@videmantay.net', 'isArchived': False, 'significanceOverride': 'UNKNOWN', 'type': 'FEATURE_REQUEST', 'componentId': 191645, 'comment': \"Before filing an issue, please read and follow these instructions carefully. \\n\\nFirst, please search through existing issues to ensure that the feature request has not already been reported. You can start the search here: https://issuetracker.google.com/savedsearches/566256\\n\\nIf the feature has already been requested, you can click the star next to the issue number to subscribe and receive updates. We prioritize responding to the issues with the most stars. You can also comment on the issue to provide any context of how the feature would benefit you.\\n\\nAlso, please verify that the functionality you are requesting is not already present in the current API and tools.\\n\\nIf your feature has not been requested, please provide all of the following:\\n-----------------------------------------------------------------------------------------------------------------------------\\nA short description of the request:\\nWe need to have a space for add-on in Google Classroom. \\n\\nWhat is the purpose of this new feature?\\nI am developing a seating chart app that works with the API it would be a better UX if the user could stay on the same window instead of switch between tabs.\\n\\nWhat existing APIs would this affect?\\nClassroom v1\\n\\nWhat existing data does this use?\\nThis would use student id's to match with seats and teacher ids to match rosters with seating charts.\\n\\nPlease provide any additional information below.\\nI am an educator and realize that have all the tools in one platform would tremendously benefit the workflow for us.\\nI've created a prototype in the Schoology Platform and believe user of Classroom would also benefit.   I can Image other tools that would help both educators and students the should also be easily accessible through Classroom.\", 'inProd': False, 'status': 'NEW', 'user': 'le...@videmantay.net', 'severity': 'S2', 'title': 'Add-ons for Google Classroom', 'version': 0, 'cc': ['gr...@google.com', 'ho...@google.com', 'le...@videmantay.net', 'ob...@google.com'], 'attachmentId': [16665195], 'createdTimeMicros': 1521908332752000}], 'userData': {'voted': False, 'starred': False}, 'issueId': 76201362}, 'events': [{'comment': 'Before filing an issue, please read and follow these instructions carefully. <br><br>First, please search through existing issues to ensure that the feature request has not already been reported. You can start the search here: <a href=\"https://issuetracker.google.com/savedsearches/566256\" target=\"_blank\" rel=\"noreferrer nofollow\">https://issuetracker.google.com/savedsearches/566256</a><br><br>If the feature has already been requested, you can click the star next to the issue number to subscribe and receive updates. We prioritize responding to the issues with the most stars. You can also comment on the issue to provide any context of how the feature would benefit you.<br><br>Also, please verify that the functionality you are requesting is not already present in the current API and tools.<br><br>If your feature has not been requested, please provide all of the following:<br>-----------------------------------------------------------------------------------------------------------------------------<br>A short description of the request:<br>We need to have a space for add-on in Google Classroom. <br><br>What is the purpose of this new feature?<br>I am developing a seating chart app that works with the API it would be a better UX if the user could stay on the same window instead of switch between tabs.<br><br>What existing APIs would this affect?<br>Classroom v1<br><br>What existing data does this use?<br>This would use student id&#39;s to match with seats and teacher ids to match rosters with seating charts.<br><br>Please provide any additional information below.<br>I am an educator and realize that have all the tools in one platform would tremendously benefit the workflow for us.<br>I&#39;ve created a prototype in the Schoology Platform and believe user of Classroom would also benefit. &nbsp; I can Image other tools that would help both educators and students the should also be easily accessible through Classroom.', 'modifiedDate': 1521908332752, 'isMajorEvent': True, 'summary': 'Reported Issue', 'preDiffs': [], 'postDiffs': [{'type': 'SINGLE_VALUE', 'timestamp': 1521908332752, 'displayName': 'Component', 'newValue': '191645', 'name': 'component', 'isUser': False, 'important': False}, {'type': 'SINGLE_VALUE', 'timestamp': 1521908332752, 'displayName': 'Status', 'newValue': 'New', 'name': 'status', 'isUser': False, 'important': True}, {'type': 'SINGLE_VALUE', 'timestamp': 1521908332752, 'displayName': 'Reporter', 'newValue': 'le...@videmantay.net', 'name': 'reporter', 'isUser': True, 'important': False}, {'type': 'COLLECTION', 'timestamp': 1521908332752, 'displayName': 'CC', 'removed': [], 'added': ['gr...@google.com', 'ho...@google.com', 'le...@videmantay.net', 'ob...@google.com'], 'name': 'cc', 'isUser': True, 'important': False}, {'type': 'SINGLE_VALUE', 'timestamp': 1521908332752, 'displayName': 'Type', 'newValue': 'Feature Request', 'name': 'type', 'isUser': False, 'important': False}, {'type': 'SINGLE_VALUE', 'timestamp': 1521908332752, 'displayName': 'Priority', 'newValue': 'P2', 'name': 'priority', 'isUser': False, 'important': False}, {'type': 'SINGLE_VALUE', 'timestamp': 1521908332752, 'displayName': 'Severity', 'newValue': 'S2', 'name': 'severity', 'isUser': False, 'important': False}, {'type': 'SINGLE_VALUE', 'timestamp': 1521908332752, 'displayName': 'Title', 'newValue': 'Add-ons for Google Classroom', 'name': 'title', 'isUser': False, 'important': False}], 'version': 0, 'userPerformingAction': 'le...@videmantay.net', 'unlinkifiedComment': \"Before filing an issue, please read and follow these instructions carefully. \\n\\nFirst, please search through existing issues to ensure that the feature request has not already been reported. You can start the search here: https://issuetracker.google.com/savedsearches/566256\\n\\nIf the feature has already been requested, you can click the star next to the issue number to subscribe and receive updates. We prioritize responding to the issues with the most stars. You can also comment on the issue to provide any context of how the feature would benefit you.\\n\\nAlso, please verify that the functionality you are requesting is not already present in the current API and tools.\\n\\nIf your feature has not been requested, please provide all of the following:\\n-----------------------------------------------------------------------------------------------------------------------------\\nA short description of the request:\\nWe need to have a space for add-on in Google Classroom. \\n\\nWhat is the purpose of this new feature?\\nI am developing a seating chart app that works with the API it would be a better UX if the user could stay on the same window instead of switch between tabs.\\n\\nWhat existing APIs would this affect?\\nClassroom v1\\n\\nWhat existing data does this use?\\nThis would use student id's to match with seats and teacher ids to match rosters with seating charts.\\n\\nPlease provide any additional information below.\\nI am an educator and realize that have all the tools in one platform would tremendously benefit the workflow for us.\\nI've created a prototype in the Schoology Platform and believe user of Classroom would also benefit.   I can Image other tools that would help both educators and students the should also be easily accessible through Classroom.\", 'commentNumber': 1, 'addedAttachmentIds': [16665195]}], 'attachmentMap': {'16665195': {'contentType': 'image/png', 'description': '', 'media': {'contentType': 'image/png', 'filename': 'Screen Shot 2018-03-07 at 11.33.41 PM.png', 'length': 542660}, 'filename': 'Screen Shot 2018-03-07 at 11.33.41 PM.png', 'length': 542660, 'attachmentId': 16665195, 'filecompUrl': 'https://doc-14-5o-issuetracker.googleusercontent.com/attachments/4cbreoq3so283ker3f5kmapot13v74da/ve9kfet7opnq5jm7u54emdaai11irimv/1521912600000/191645/113548024460495540073/76201362::16665195::191645'}}, 'customFields': [{'type': 'ENUM', 'customFieldId': 84515, 'required': False, 'allowedValue': ['Auth', 'Documentation', 'Performance', 'Quotas', 'Security'], 'name': 'Concern', 'fieldSignificance': 'MINOR', 'componentId': 191625}, {'type': 'TEXT', 'fieldSignificance': 'SILENT', 'required': False, 'name': 'Original ID', 'componentId': 191625, 'customFieldId': 85265}]}\n"
     ]
    }
   ],
   "source": [
    "def get_raw_issue(issue_id, cookies=cookies):\n",
    "    response = requests.get(\"https://issuetracker.google.com/action/issues/{}\".format(issue_id), cookies=cookies)\n",
    "    lines = [x for x in response.iter_lines()]\n",
    "    return [json.loads(lines[1].decode())]\n",
    "\n",
    "raw_issue_details = []\n",
    "issue_ids = [x['issueId'] for x in raw_issues]\n",
    "pool = multiprocessing.Pool(4)\n",
    "pool_output = pool.map(get_raw_issue, issue_ids)\n",
    "for batch in pool_output:\n",
    "    raw_issue_details.extend(batch)\n",
    "pool.close()\n",
    "\n",
    "print(\"Example raw issue: \")\n",
    "print(raw_issue_details[0])"
   ]
  },
  {
   "cell_type": "markdown",
   "metadata": {},
   "source": [
    "There is quite a bit of information here, some things to note:\n",
    "* We will be aggregating the voteCount values and tally the number of issues to prioritize the clusters.\n",
    "* We will be extracting the first comment of each issue to use as the corpus for our clustering.\n",
    "* The corpus contains html formatting and urls which we will likely strip out.\n",
    "\n",
    "Let's extract only the parts we will be using and clean up the text we will be using as a corpus."
   ]
  },
  {
   "cell_type": "code",
   "execution_count": 14,
   "metadata": {
    "collapsed": false
   },
   "outputs": [
    {
     "name": "stdout",
     "output_type": "stream",
     "text": [
      "Here is an example issue with the data we will use for clustering: \n",
      "{\n",
      "  \"description\": \"[REMEMBER: Vote on existing features using the \\\"Me Too!\\\" button. This will help us prioritize the most requested features.]1) What's the feature?Currently the only way to display date is in a table and hide the table header with the same color font as the theme background2) How do you plan on using this feature?I want to show the maximum date (again a feature not available) at the top of the report3) What's the impact that this feature will have on you or your business? (Time saved, new users, etc.)Time Saved and Provide latest date at the top of the report without the workaround.\",\n",
      "  \"dirty_dsecription\": \"[REMEMBER: Vote on existing features using the &quot;Me Too!&quot; button. This will help us prioritize the most requested features.]<br><br>1) What&#39;s the feature?<br>Currently the only way to display date is in a table and hide the table header with the same color font as the theme background<br><br>2) How do you plan on using this feature?<br>I want to show the maximum date (again a feature not available) at the top of the report<br><br>3) What&#39;s the impact that this feature will have on you or your business? (Time saved, new users, etc.)<br>Time Saved and Provide latest date at the top of the report without the workaround.\",\n",
      "  \"id\": 76124123,\n",
      "  \"votes\": 0\n",
      "}\n"
     ]
    }
   ],
   "source": [
    "import html\n",
    "import re\n",
    "\n",
    "issues = []\n",
    "\n",
    "for i in raw_issue_details:\n",
    "    issue_id = i['issue']['issueId']\n",
    "    issue_votes = i['issue']['aggregatedData']['voteCount']\n",
    "    issue_dirty_description = i['events'][0].get('comment', \"\")\n",
    "    issue_description = issue_dirty_description\n",
    "    \n",
    "    # There appears to be HTML formatting support in comments.\n",
    "    issue_description = re.sub('<[^<]+?>', '', issue_description) \n",
    "    # Remove URLs.\n",
    "    issue_description = re.sub(r'https?:\\/\\/.*[\\r\\n]*', '', issue_description, flags=re.MULTILINE) \n",
    "    # Escaped characters too!\n",
    "    issue_description = html.unescape(issue_description)\n",
    "    issues.append({'id': issue_id, 'votes': issue_votes, 'dirty_dsecription': issue_dirty_description, \n",
    "                   'description': issue_description})\n",
    "\n",
    "print(\"Here is an example issue with the data we will use for clustering: \")\n",
    "print(json.dumps(issues[35], indent=2, sort_keys=True))"
   ]
  },
  {
   "cell_type": "markdown",
   "metadata": {},
   "source": [
    "[Go to top](#top)\n",
    "### Cluster  <a class=\"anchor\" id=\"cluster\"></a>\n",
    "\n",
    "Now that we have some text, we can try to cluster the text to see what groups come out of it. Will be using this guide as inspiration: https://pythonprogramminglanguage.com/kmeans-text-clustering/\n",
    "\n",
    "Lets apply some of the machine learning k-means clustering goodness to produce some a list of top 10 features in each cluster."
   ]
  },
  {
   "cell_type": "code",
   "execution_count": 6,
   "metadata": {
    "collapsed": false
   },
   "outputs": [
    {
     "name": "stdout",
     "output_type": "stream",
     "text": [
      "Here is a dict describing a cluster that was detected: \n",
      "{\n",
      "  \"features\": [\n",
      "    \"emulator\",\n",
      "    \"bringing solution\",\n",
      "    \"familiarize\",\n",
      "    \"tests allow\",\n",
      "    \"solution production\",\n",
      "    \"help making\",\n",
      "    \"bigtable datastore\",\n",
      "    \"sub looking\",\n",
      "    \"looking know\",\n",
      "    \"spanner help\"\n",
      "  ],\n",
      "  \"index\": 35,\n",
      "  \"issues\": 0,\n",
      "  \"votes\": 0\n",
      "}\n"
     ]
    }
   ],
   "source": [
    "number_of_clusters = 50  # Gow many clusters?\n",
    "ngram_range = (1, 2) # Single words or two-word phrases?\n",
    "extra_stop_words = [\"feature\", \"features\", \n",
    "                    \"issue\", \"issues\", \n",
    "                    \"requests\", \"requests\", \n",
    "                    \"thing\", \"things\", \n",
    "                    \"google\"]\n",
    "\n",
    "\n",
    "from sklearn.feature_extraction import text\n",
    "from sklearn.feature_extraction.text import TfidfVectorizer\n",
    "from sklearn.cluster import KMeans\n",
    "from sklearn.metrics import adjusted_rand_score\n",
    "\n",
    "feature_documents = [x['description'] for x in issues]\n",
    "\n",
    "stop_words = text.ENGLISH_STOP_WORDS.union(extra_stop_words)\n",
    "vectorizer = TfidfVectorizer(stop_words=stop_words, ngram_range=ngram_range)\n",
    "x = vectorizer.fit_transform(feature_documents)\n",
    "\n",
    "feature_model = KMeans(n_clusters=number_of_clusters, init='k-means++', max_iter=100, n_init=1)\n",
    "feature_model.fit(x)\n",
    "\n",
    "order_centroids = feature_model.cluster_centers_.argsort()[:, ::-1]\n",
    "terms = vectorizer.get_feature_names()\n",
    "\n",
    "clusters = []\n",
    "\n",
    "for i in range(number_of_clusters):\n",
    "    clusters.append({\n",
    "            'index': i,\n",
    "            'features': [terms[x] for x in order_centroids[i, :10]],\n",
    "            'votes': 0,\n",
    "            'issues': 0\n",
    "        })    \n",
    "\n",
    "print(\"Here is a dict describing a cluster that was detected: \")\n",
    "print(json.dumps(clusters[35], indent=2, sort_keys=True))"
   ]
  },
  {
   "cell_type": "markdown",
   "metadata": {},
   "source": [
    "Now I can make predictions of which cluster a string belongs to..."
   ]
  },
  {
   "cell_type": "code",
   "execution_count": 15,
   "metadata": {
    "collapsed": false
   },
   "outputs": [
    {
     "name": "stdout",
     "output_type": "stream",
     "text": [
      "The following command belongs in cluster 15:\n",
      "We're attempting to use Stackdriver Logging to log custom logs. Our log names look like this, depending on the type of process logging them, and the class inside the code that logged it:- projects/hivemp-dev/logs/hivemp%2Fbilling-paid-invoice-aggregation-scheduler%2FHiveMP.Api.Framework.Cluster.Cluster- projects/hivemp-dev/logs/hivemp%2Fbilling-paid-invoice-aggregation-processor%2FHiveMP.Api.Framework.Cluster.Cluster- projects/hivemp-dev/logs/hivemp%2Fbilling-paid-invoice-aggregation-processor%2FRedpoint.CommonFramework.Event.PubSub.GooglePubSubetc.The problem is that the UI cuts the \"hivemp/<target>/\" part off the \"hivemp/<target>/<class>\" string, and when you try and select \"Cluster\" across multiple targets, the dropdown doesn't work properly at all because it incorrectly goes \"oh, the second Cluster selection is a duplicate (same text)\", even though the prefix is different. This makes the Stackdriver logging interface pretty unusable if we store logs like that. Attached is an example image.We'd really like this hierarchy in log names to work. An alternative would be support for custom resources (which would also give us a hierarchy to select in the UI), since right now we can only use \"global\" with no nested custom resources.\n",
      "\n",
      "Feature cluster 15:\n",
      " using\n",
      " data\n",
      " time\n",
      " new\n",
      " users\n",
      " use\n",
      " like\n",
      " saved\n",
      " android\n",
      " time saved\n"
     ]
    }
   ],
   "source": [
    "import random\n",
    "\n",
    "idx = random.randint(0, len(issues))\n",
    "\n",
    "y = vectorizer.transform([issues[idx]['description']])\n",
    "prediction = feature_model.predict(y)\n",
    "\n",
    "print(\"The following command belongs in cluster {}:\".format(prediction[0]))\n",
    "print(issues[idx]['description'])\n",
    "\n",
    "print(\"\")\n",
    "print(\"Feature cluster %d:\" % prediction[0]),\n",
    "for ind in order_centroids[prediction[0], :10]:\n",
    "    print(' %s' % terms[ind])"
   ]
  },
  {
   "cell_type": "markdown",
   "metadata": {
    "collapsed": true
   },
   "source": [
    "[Go to top](#top)\n",
    "\n",
    "### Prioritize  <a class=\"anchor\" id=\"prioritize\"></a>\n",
    "\n",
    "Now that we have a model with approximately 50 clusters, we can start prioritizing these clusters.  How should we prioritize?  Let's iterate over all of the issues, and aggregate data in the list of clusters we created earlier.  We will aggregate the number of issues, and the combined votes."
   ]
  },
  {
   "cell_type": "code",
   "execution_count": 35,
   "metadata": {
    "collapsed": false
   },
   "outputs": [],
   "source": [
    "for cluster in clusters:\n",
    "    cluster['votes'] = 0\n",
    "    cluster['issues'] = 0\n",
    "\n",
    "for issue in issues:\n",
    "    vectorized_description = vectorizer.transform([issue['description']])\n",
    "    prediction = feature_model.predict(vectorized_description)\n",
    "    issues[issues.index(issue)]['prediction'] = prediction[0]\n",
    "    clusters[issue['prediction']]['votes'] += issue['votes']\n",
    "    clusters[issue['prediction']]['issues'] += 1"
   ]
  },
  {
   "cell_type": "markdown",
   "metadata": {},
   "source": [
    "Now let's sort the clusters by the number of issues or the number of votes to see the ordered lists..."
   ]
  },
  {
   "cell_type": "code",
   "execution_count": 36,
   "metadata": {
    "collapsed": false
   },
   "outputs": [
    {
     "name": "stdout",
     "output_type": "stream",
     "text": [
      "Top clusters sorted by issue count: \n",
      "Cluster: 15, issues: 1470\n",
      "Cluster: 9, issues: 126\n",
      "Cluster: 7, issues: 35\n",
      "Cluster: 12, issues: 18\n",
      "Cluster: 33, issues: 14\n",
      "Cluster: 20, issues: 10\n",
      "Cluster: 23, issues: 4\n",
      "Cluster: 28, issues: 3\n",
      "Cluster: 32, issues: 3\n",
      "Cluster: 3, issues: 2\n",
      "\n",
      "Top clusters sorted by vote count: \n",
      "Cluster: 15, votes: 1511\n",
      "Cluster: 9, votes: 27\n",
      "Cluster: 23, votes: 14\n",
      "Cluster: 12, votes: 10\n",
      "Cluster: 45, votes: 8\n",
      "Cluster: 6, votes: 3\n",
      "Cluster: 31, votes: 3\n",
      "Cluster: 16, votes: 2\n",
      "Cluster: 0, votes: 1\n",
      "Cluster: 7, votes: 1\n"
     ]
    }
   ],
   "source": [
    "clusters_by_issues = sorted(clusters, key=lambda k: k['issues'], reverse=True) \n",
    "clusters_by_votes = sorted(clusters, key=lambda k: k['votes'], reverse=True) \n",
    "\n",
    "print(\"Top clusters sorted by issue count: \")\n",
    "for c in clusters_by_issues[:10]:\n",
    "    print(\"Cluster: {}, issues: {}\".format(c['index'], c['issues']))\n",
    "    \n",
    "print()\n",
    "print(\"Top clusters sorted by vote count: \")\n",
    "for c in clusters_by_votes[:10]:\n",
    "    print(\"Cluster: {}, votes: {}\".format(c['index'], c['votes']))"
   ]
  },
  {
   "cell_type": "markdown",
   "metadata": {},
   "source": [
    "Although the sorted lists look similar, they are not the same order.  Since we have two criteria for sorting, we should come up with some kind of index that uses both the votes and the issue count values."
   ]
  },
  {
   "cell_type": "code",
   "execution_count": 37,
   "metadata": {
    "collapsed": false
   },
   "outputs": [
    {
     "name": "stdout",
     "output_type": "stream",
     "text": [
      "Top 10 clusters sorted by ratio: \n",
      "    Cluster:    15, score:    1.000, issue_score:    1.000, vote_score:    1.000\n",
      "    Cluster:     9, score:    0.051, issue_score:    0.085, vote_score:    0.018\n",
      "    Cluster:     7, score:    0.012, issue_score:    0.023, vote_score:    0.001\n",
      "    Cluster:    12, score:    0.009, issue_score:    0.012, vote_score:    0.007\n",
      "    Cluster:    23, score:    0.006, issue_score:    0.002, vote_score:    0.009\n",
      "    Cluster:    33, score:    0.005, issue_score:    0.009, vote_score:    0.001\n",
      "    Cluster:    20, score:    0.003, issue_score:    0.006, vote_score:    0.000\n",
      "    Cluster:    45, score:    0.003, issue_score:    0.000, vote_score:    0.005\n",
      "    Cluster:    32, score:    0.001, issue_score:    0.001, vote_score:    0.001\n",
      "    Cluster:     6, score:    0.001, issue_score:    0.000, vote_score:    0.002\n"
     ]
    }
   ],
   "source": [
    "# Customize these one is more important than the other.\n",
    "vote_multiplier = 1\n",
    "issue_multiplier = 1\n",
    "\n",
    "# In order to normalize the votes and issue counts, we need the min/max\n",
    "min_votes = min([c['votes'] for c in clusters])\n",
    "max_votes = max([c['votes'] for c in clusters])\n",
    "min_issues = min([c['issues'] for c in clusters])\n",
    "max_issues = max([c['issues'] for c in clusters])\n",
    "\n",
    "# Calculate the scores per cluster using the min/max.  Avrage the two scores.\n",
    "for cluster in clusters:\n",
    "    cluster['vote_score'] = vote_multiplier * ((cluster['votes'] - min_votes) / (max_votes - min_votes))\n",
    "    cluster['issue_score'] = issue_multiplier * ((cluster['issues'] - min_issues) / (max_issues - min_issues))\n",
    "    cluster['score'] = (cluster['vote_score'] + cluster['issue_score']) / 2\n",
    "\n",
    "# Sort by the new score value.\n",
    "clusters_by_score= sorted(clusters, key=lambda k: k['score'], reverse=True)\n",
    "\n",
    "print(\"Top 10 clusters sorted by ratio: \")\n",
    "for c in clusters_by_score[:10]:\n",
    "    print(\"    Cluster: {0:5d}, score: {1:8.3f}, issue_score: {2:8.3f}, vote_score: {3:8.3f}\".format(\n",
    "            c['index'], c['score'], \n",
    "            clusters[c['index']]['issue_score'],\n",
    "            clusters[c['index']]['vote_score']))\n",
    "                                                                                       "
   ]
  },
  {
   "cell_type": "markdown",
   "metadata": {},
   "source": [
    "Let's dump some information about this top cluster..."
   ]
  },
  {
   "cell_type": "code",
   "execution_count": 38,
   "metadata": {
    "collapsed": false
   },
   "outputs": [
    {
     "name": "stdout",
     "output_type": "stream",
     "text": [
      "{\n",
      "  \"features\": [\n",
      "    \"using\",\n",
      "    \"data\",\n",
      "    \"time\",\n",
      "    \"new\",\n",
      "    \"users\",\n",
      "    \"use\",\n",
      "    \"like\",\n",
      "    \"saved\",\n",
      "    \"android\",\n",
      "    \"time saved\"\n",
      "  ],\n",
      "  \"index\": 15,\n",
      "  \"issue_score\": 1.0,\n",
      "  \"issues\": 1470,\n",
      "  \"ratio\": 1.027891156462585,\n",
      "  \"score\": 1.0,\n",
      "  \"vote_score\": 1.0,\n",
      "  \"votes\": 1511\n",
      "}\n"
     ]
    }
   ],
   "source": [
    "print(json.dumps(clusters_by_score[0], indent=2, sort_keys=True))"
   ]
  },
  {
   "cell_type": "markdown",
   "metadata": {},
   "source": [
    "Let's take a sample of the issues that are part of this cluster..."
   ]
  },
  {
   "cell_type": "code",
   "execution_count": 55,
   "metadata": {
    "collapsed": false
   },
   "outputs": [
    {
     "name": "stdout",
     "output_type": "stream",
     "text": [
      "-----\n",
      "* Which Developer Preview build are you using? See Settings > About phone > Build number (for example OPP5.170921.005).sdk_gphone_x86-userdebug P PPP1.180208.011 4624533 dev-keys    * What device are you using? (for example, Pixel XL)Emulator (Nexus 5X, x86, Google APIs)    * What are the steps to reproduce the problem? (Please provide the minimal reproducible test case.)(on a clean emulator image — permissions must not have been granted before)1. Create any app that uses SliceManager to bind to a SliceProvider (host) — using the slice compat library 28.0.0-alpha12. In the host app, observe that there is no way to query for available SliceProviders and discover what Slices they offerThis means that there is no direct way to check if a certain slice provider is available without going to the implementation detail of slice providers being content providers and using the package manager to check.That is limited in that there is no way to check if a content provider is a slice provider without knowing its authority and adding it to a whitelist beforehand; to the package manager, content providers and slice providers look exactly the same.    * Issue Category e.g. Framework (platform), NDK (platform), Hardware (CPU, GPU, Sensor, Camera), ART (platform), Runtime Permissions etcFramework/compat, slices (it's Slices-compat on P DP1, so it wraps the native slices framework)    * What was the expected result?There is a way to discover and check for slice providers    * What was the actual result?No such API is available    * Relevant logcat output.N/A    * Repro project:\n",
      "-----\n",
      "* Which Developer Preview build are you using? See Settings > About phone > Build number (for example OPP5.170921.005).sdk_gphone_x86-userdebug P PPP1.180208.011 4624533 dev-keys    * What device are you using? (for example, Pixel XL)Emulator (Nexus 5X, x86, Google APIs)    * What are the steps to reproduce the problem? (Please provide the minimal reproducible test case.)(on a clean emulator image — permissions must not have been granted before)1. Create any SliceProvider app (provider), and another app that uses SliceManager to bind to it (host) — both using the slice compat library 28.0.0-alpha12. In the provider app, build a slice3. Observe that the host app has no way, short of calling bind() and doing some whitebox prodding into the resulting slice, to verify whether it needs to obtain permission from a user to display a slice4. Observe that the host app has no way to request showing the permission dialog except for extracting its PendingIntent from the \"missing permission\" sliceCurrently the verification can be \"hacked\" as follows:\n",
      "-----\n",
      "* Which Developer Preview build are you using? See Settings > About phone > Build number (for example OPP5.170921.005).sdk_gphone_x86-userdebug P PPP1.180208.011 4624533 dev-keys    * What device are you using? (for example, Pixel XL)Emulator (Nexus 5X, x86, Google APIs)    * What are the steps to reproduce the problem? (Please provide the minimal reproducible test case.)(on a clean emulator image — permissions must not have been granted before)1. Create any SliceProvider app (provider), and another app that uses SliceManager to bind to it (host) — both using the slice compat library 28.0.0-alpha12. In the host app, do the bind() call and assign the Slice it outputs to a SliceView3. Observe that the SliceView shows a (very barebones) slice signaling it needs permission4. Observe the slice is not clickable and users have no way to request the permission    * Issue Category e.g. Framework (platform), NDK (platform), Hardware (CPU, GPU, Sensor, Camera), ART (platform), Runtime Permissions etcFramework/compat, slices (it's Slices-compat on P DP1, so it wraps the native slices framework)    * What was the expected result?The permission slice is clickable and users can request permission to access slices    * What was the actual result?The permission slice is NOT clickable and users CANNOT request permission to access slices    * Relevant logcat output.N/A    * Repro project:\n"
     ]
    }
   ],
   "source": [
    "for issue in [i for i in issues if i['prediction'] == clusters_by_score[8]['index']]:\n",
    "    print(\"-----\")\n",
    "    print(issue['description'])"
   ]
  }
 ],
 "metadata": {
  "kernelspec": {
   "display_name": "gpm",
   "language": "python",
   "name": "gpm"
  },
  "language_info": {
   "codemirror_mode": {
    "name": "ipython",
    "version": 3
   },
   "file_extension": ".py",
   "mimetype": "text/x-python",
   "name": "python",
   "nbconvert_exporter": "python",
   "pygments_lexer": "ipython3",
   "version": "3.5.3"
  }
 },
 "nbformat": 4,
 "nbformat_minor": 2
}
